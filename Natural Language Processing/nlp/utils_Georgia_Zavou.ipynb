{
 "cells": [
  {
   "cell_type": "markdown",
   "id": "5cfe5390-67af-4f79-b971-577fbea3bfc0",
   "metadata": {},
   "source": [
    "\n",
    "**Georgia Zavou**\n",
    "\n",
    "This notebook explains the utility functions I implemented. These functions focus on core machine learning and TF-IDF-based features. These components are crucial for transforming raw text into numerical representations and training robust classifiers. They align with standard text classification pipelines and support reproducibility.\n",
    "\n",
    "\n",
    "\n",
    "### `train_logistic_model(X_train, y_train)`\n",
    "Fits a logistic regression model on the given feature matrix `X_train` and target labels `y_train`. Used for both baseline and improved models.\n",
    "\n",
    "So it's  a imple, interpretable model ideal for text classification tasks.\n",
    "\n",
    "---\n",
    "\n",
    "### `evaluate_model(model, X, y_true)`\n",
    "Evaluates any classifier using three metrics: ROC AUC, Precision, and Recall. It uses `predict_proba` to compute AUC, and `predict` for classification metrics.\n",
    "\n",
    "Output: Dictionary with `roc_auc`, `precision`, and `recall`.\n",
    "\n",
    "---\n",
    "\n",
    "### `extract_improved_features(df, tfidf_vectorizer=None)`\n",
    "Cleans both questions and computes a rich set of features, including Jaccard similarity, length difference, TF-IDF cosine similarity, Levenshtein ratio, shared bigrams, average word length difference, and SpaCy cosine similarity.\n",
    "\n",
    "- Designed the overall structure  of the function\n",
    "- Integrated all sub-features into a unified DataFrame\n",
    "- Ensured vectorizer reuse and feature consistency across datasets.\n",
    "\n",
    "This is the core function that powers the improved models, combining multiple semantic and lexical features into one representation.\n",
    "\n"
   ]
  },
  {
   "cell_type": "code",
   "execution_count": null,
   "id": "aaeaf3b7-e1a3-4020-a71c-b8c119792526",
   "metadata": {},
   "outputs": [],
   "source": []
  }
 ],
 "metadata": {
  "kernelspec": {
   "display_name": "Python 3 (ipykernel)",
   "language": "python",
   "name": "python3"
  },
  "language_info": {
   "codemirror_mode": {
    "name": "ipython",
    "version": 3
   },
   "file_extension": ".py",
   "mimetype": "text/x-python",
   "name": "python",
   "nbconvert_exporter": "python",
   "pygments_lexer": "ipython3",
   "version": "3.9.18"
  }
 },
 "nbformat": 4,
 "nbformat_minor": 5
}
