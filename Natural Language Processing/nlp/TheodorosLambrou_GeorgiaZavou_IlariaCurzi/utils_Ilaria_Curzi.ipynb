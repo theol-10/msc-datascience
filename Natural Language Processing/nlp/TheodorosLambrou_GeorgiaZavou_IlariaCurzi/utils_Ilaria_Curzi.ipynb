{
 "cells": [
  {
   "cell_type": "markdown",
   "id": "794bafa1-b913-471d-af73-d9e0207845bc",
   "metadata": {},
   "source": [
    "\n",
    "**Ilaria Curzi**\n",
    "\n",
    " My focus for this project was on advanced NLP-based features that improve model accuracy. These features significantly improved our model’s performance, especially when used in combination with tree-based classifiers like Random Forest.\n",
    "\n",
    "\n",
    "---\n",
    "\n",
    "### `levenshtein_ratio(q1, q2)`\n",
    "Computes the normalized Levenshtein (edit) distance ratio between two cleaned questions. So it captures fine-grained similarity even when words are slightly altered or misspelled.\n",
    "\n",
    "---\n",
    "\n",
    "### `shared_bigrams_ratio(q1, q2)`\n",
    "Extracts bigrams (pairs of consecutive words) from both questions and computes the Jaccard similarity between them.\n",
    "Helps detect structural overlap in phrasing and syntax.\n",
    "\n",
    "---\n",
    "\n",
    "### `avg_word_length_diff(q1, q2)`\n",
    "Calculates the absolute difference in the average word length between two questions. So it's useful to provide a signal about linguistic complexity or style mismatches.\n",
    "\n",
    "---\n",
    "\n",
    "### `get_spacy_vector(text)` + `compute_spacy_cosine(q1, q2)`\n",
    "- `get_spacy_vector()` returns the vector embedding of a sentence using SpaCy's medium model (with caching for speed).\n",
    "- `compute_spacy_cosine()` computes cosine similarity between the vector representations of two questions.\n",
    "\n",
    "Used to capture semantic similarity using pretrained word embeddings.\n",
    "\n"
   ]
  },
  {
   "cell_type": "code",
   "execution_count": null,
   "id": "29051506-4163-4634-8a24-a2f79e7267ea",
   "metadata": {},
   "outputs": [],
   "source": []
  }
 ],
 "metadata": {
  "kernelspec": {
   "display_name": "Python 3 (ipykernel)",
   "language": "python",
   "name": "python3"
  },
  "language_info": {
   "codemirror_mode": {
    "name": "ipython",
    "version": 3
   },
   "file_extension": ".py",
   "mimetype": "text/x-python",
   "name": "python",
   "nbconvert_exporter": "python",
   "pygments_lexer": "ipython3",
   "version": "3.9.18"
  }
 },
 "nbformat": 4,
 "nbformat_minor": 5
}
